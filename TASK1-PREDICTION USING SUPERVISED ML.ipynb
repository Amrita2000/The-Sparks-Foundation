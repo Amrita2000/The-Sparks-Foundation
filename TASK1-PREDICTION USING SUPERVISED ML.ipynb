{
  "nbformat": 4,
  "nbformat_minor": 0,
  "metadata": {
    "colab": {
      "name": "project",
      "provenance": [],
      "collapsed_sections": []
    },
    "kernelspec": {
      "name": "python3",
      "display_name": "Python 3"
    }
  },
  "cells": [
    {
      "cell_type": "code",
      "metadata": {
        "id": "PFpoxW-tnpSC"
      },
      "source": [
        "import pandas as pd\n",
        "import matplotlib.pyplot as plt\n",
        "from sklearn.linear_model import LinearRegression\n",
        "import numpy as np\n",
        "from sklearn import metrics\n",
        "from sklearn.model_selection import train_test_split"
      ],
      "execution_count": 45,
      "outputs": []
    },
    {
      "cell_type": "code",
      "metadata": {
        "id": "kFX2j37Mx5R8",
        "outputId": "3d8e9606-49fe-4c46-d660-6a0297c9528e",
        "colab": {
          "base_uri": "https://localhost:8080/",
          "height": 629
        }
      },
      "source": [
        "#LOAD DATA\n",
        "Data = \"http://bit.ly/w-data\"\n",
        "dataframe = pd.read_csv(Data)\n",
        "print(dataframe)\n",
        "print(\"----------TO CHECK MEAN DEVIATION----------------\")\n",
        "print(dataframe.describe())"
      ],
      "execution_count": 6,
      "outputs": [
        {
          "output_type": "stream",
          "text": [
            "    Hours  Scores\n",
            "0     2.5      21\n",
            "1     5.1      47\n",
            "2     3.2      27\n",
            "3     8.5      75\n",
            "4     3.5      30\n",
            "5     1.5      20\n",
            "6     9.2      88\n",
            "7     5.5      60\n",
            "8     8.3      81\n",
            "9     2.7      25\n",
            "10    7.7      85\n",
            "11    5.9      62\n",
            "12    4.5      41\n",
            "13    3.3      42\n",
            "14    1.1      17\n",
            "15    8.9      95\n",
            "16    2.5      30\n",
            "17    1.9      24\n",
            "18    6.1      67\n",
            "19    7.4      69\n",
            "20    2.7      30\n",
            "21    4.8      54\n",
            "22    3.8      35\n",
            "23    6.9      76\n",
            "24    7.8      86\n",
            "----------TO CHECK MEAN DEVIATION----------------\n",
            "           Hours     Scores\n",
            "count  25.000000  25.000000\n",
            "mean    5.012000  51.480000\n",
            "std     2.525094  25.286887\n",
            "min     1.100000  17.000000\n",
            "25%     2.700000  30.000000\n",
            "50%     4.800000  47.000000\n",
            "75%     7.400000  75.000000\n",
            "max     9.200000  95.000000\n"
          ],
          "name": "stdout"
        }
      ]
    },
    {
      "cell_type": "code",
      "metadata": {
        "id": "kilE3_ws0uK1",
        "outputId": "7cb3fb41-6a2f-4008-d786-02c2aaa28c50",
        "colab": {
          "base_uri": "https://localhost:8080/",
          "height": 265
        }
      },
      "source": [
        "#PLOT DATA\n",
        "X = dataframe[\"Hours\"]\n",
        "Y = dataframe[\"Scores\"]\n",
        "plt.plot(X,Y,'o')\n",
        "plt.show()"
      ],
      "execution_count": 50,
      "outputs": [
        {
          "output_type": "display_data",
          "data": {
            "image/png": "[encoded data removed]",
            "text/plain": [
              "<Figure size 432x288 with 1 Axes>"
            ]
          },
          "metadata": {
            "tags": [],
            "needs_background": "light"
          }
        }
      ]
    },
    {
      "cell_type": "code",
      "metadata": {
        "id": "lFHMh2Ge2-WO",
        "outputId": "91fd4976-f7fd-4d19-a23f-c989fe395824",
        "colab": {
          "base_uri": "https://localhost:8080/",
          "height": 51
        }
      },
      "source": [
        "#BUILD THE MODEL\n",
        "x=dataframe.iloc[:,:-1].values\n",
        "y=dataframe.iloc[:,1].values\n",
        "X_DATA1,X_DATA2,Y_DATA1,Y_DATA2=train_test_split(x,y,test_size=0.2,random_state=0)\n",
        "print(\"-------MODEL CREATION---------\")\n",
        "model= LinearRegression()\n",
        "model.fit(X_DATA1,Y_DATA1)\n"
      ],
      "execution_count": 51,
      "outputs": [
        {
          "output_type": "stream",
          "text": [
            "-------MODEL CREATION---------\n"
          ],
          "name": "stdout"
        },
        {
          "output_type": "execute_result",
          "data": {
            "text/plain": [
              "LinearRegression(copy_X=True, fit_intercept=True, n_jobs=None, normalize=False)"
            ]
          },
          "metadata": {
            "tags": []
          },
          "execution_count": 51
        }
      ]
    },
    {
      "cell_type": "code",
      "metadata": {
        "id": "EjQvdin27Wc1",
        "outputId": "b8fc6ac3-18ac-4316-d0ad-e60b65921fa2",
        "colab": {
          "base_uri": "https://localhost:8080/",
          "height": 265
        }
      },
      "source": [
        "#PLOT THE REGRESSION LINE\n",
        "regression_line=model.coef_*x+model.intercept_\n",
        "plt.scatter(X_DATA1,Y_DATA1)\n",
        "plt.scatter(X_DATA2,Y_DATA2)\n",
        "plt.plot(X,regression_line, color=\"red\") \n",
        "plt.show()\n"
      ],
      "execution_count": 53,
      "outputs": [
        {
          "output_type": "display_data",
          "data": {
            "image/png": "[encoded data removed]",
            "text/plain": [
              "<Figure size 432x288 with 1 Axes>"
            ]
          },
          "metadata": {
            "tags": [],
            "needs_background": "light"
          }
        }
      ]
    },
    {
      "cell_type": "code",
      "metadata": {
        "id": "2ly3jjoJ-An5",
        "outputId": "cf607e88-4987-44b4-d8a0-21cb1d2abf9d",
        "colab": {
          "base_uri": "https://localhost:8080/",
          "height": 136
        }
      },
      "source": [
        "#PREDICTIONS\n",
        "Y_PREDICTIONS = model.predict(X_DATA2)\n",
        "print(Y_PREDICTIONS)\n",
        "pred_data = pd.DataFrame({'Actual': Y_DATA2, 'Predicted ':Y_PREDICTIONS})\n",
        "print(pred_data)\n",
        "\n"
      ],
      "execution_count": 54,
      "outputs": [
        {
          "output_type": "stream",
          "text": [
            "[16.88414476 33.73226078 75.357018   26.79480124 60.49103328]\n",
            "   Actual  Predicted \n",
            "0      20   16.884145\n",
            "1      27   33.732261\n",
            "2      69   75.357018\n",
            "3      30   26.794801\n",
            "4      62   60.491033\n"
          ],
          "name": "stdout"
        }
      ]
    },
    {
      "cell_type": "code",
      "metadata": {
        "id": "9_kAWCt2-cUx",
        "outputId": "69823d82-2944-45fc-e418-e6e4e94d89fb",
        "colab": {
          "base_uri": "https://localhost:8080/",
          "height": 34
        }
      },
      "source": [
        "#ERROR\n",
        "error = metrics.mean_absolute_error(Y_DATA2,Y_PREDICTIONS)\n",
        "print(error)"
      ],
      "execution_count": 55,
      "outputs": [
        {
          "output_type": "stream",
          "text": [
            "4.183859899002982\n"
          ],
          "name": "stdout"
        }
      ]
    },
    {
      "cell_type": "code",
      "metadata": {
        "id": "xHYcv1H-ZBGN",
        "outputId": "4f03df27-9cd9-49b5-c704-e35a5d6b1516",
        "colab": {
          "base_uri": "https://localhost:8080/",
          "height": 34
        }
      },
      "source": [
        "\n",
        "y1_pred=model.predict([[9.25]])\n",
        "print('predicted score :',y1_pred)"
      ],
      "execution_count": 56,
      "outputs": [
        {
          "output_type": "stream",
          "text": [
            "predicted score : [93.69173249]\n"
          ],
          "name": "stdout"
        }
      ]
    }
  ]
}
